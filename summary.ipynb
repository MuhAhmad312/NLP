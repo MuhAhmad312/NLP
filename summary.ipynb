{
 "cells": [
  {
   "cell_type": "code",
   "execution_count": 11,
   "metadata": {},
   "outputs": [],
   "source": [
    "import re\n",
    "import nltk\n",
    "import numpy as np\n",
    "from nltk.tokenize import sent_tokenize, word_tokenize \n",
    "from nltk.corpus import stopwords\n",
    "from nltk.cluster.util import cosine_distance \n",
    "from pypdf import PdfReader"
   ]
  },
  {
   "cell_type": "code",
   "execution_count": 92,
   "metadata": {},
   "outputs": [
    {
     "data": {
      "text/plain": [
       "\"Artificial Intelligence (AI) has been making remarkable strides in recent years, transforming various industries and aspects of daily life. From healthcare to finance, education to entertainment, AI's impact is profound and far-reaching. In healthcare, AI algorithms can analyze medical images with incredible accuracy, assisting doctors in diagnosing diseases such as cancer at an early stage. Financial institutions leverage AI for fraud detection, risk assessment, and algorithmic trading, resulting in more secure and efficient operations. In the realm of education, AI-powered tools offer personalized learning experiences, adapting to the needs and pace of individual students. This technology also powers virtual assistants, which can help with tasks ranging from setting reminders to answering complex queries, making life more convenient. Entertainment has also seen a significant transformation with AI, as recommendation algorithms suggest movies, music, and shows tailored to individual preferences, enhancing user experience. However, with these advancements come challenges and ethical considerations. The potential for job displacement due to automation raises concerns about the future workforce. Ensuring the privacy and security of data used by AI systems is paramount, as breaches can have serious consequences. Additionally, the development of AI must be guided by ethical principles to prevent biases and ensure fair and just outcomes. As AI continues to evolve, it is crucial for policymakers, researchers, and industry leaders to collaborate and address these challenges, ensuring that the benefits of AI are maximized while minimizing potential risks. The future of AI holds immense potential, and with responsible development and deployment, it can lead to a more innovative and equitable world.\\n\""
      ]
     },
     "execution_count": 92,
     "metadata": {},
     "output_type": "execute_result"
    }
   ],
   "source": [
    "def txt_file(filename): \n",
    "    with open(filename, 'r') as file: \n",
    "            content = file.read() \n",
    "            content.split('\\n') # assume sentences are separated by end lines \n",
    "    return content \n",
    "\n",
    "content = txt_file('test.txt')\n",
    "content"
   ]
  },
  {
   "cell_type": "code",
   "execution_count": 13,
   "metadata": {},
   "outputs": [
    {
     "data": {
      "text/plain": [
       "['artificial intelligence ai has been making remarkable strides in recent years transforming various industries and aspects of daily life',\n",
       " 'from healthcare to finance education to entertainment ai impact is profound and',\n",
       " 'in healthcare ai algorithms can analyze medical images with incredible accuracy assisting doctors in diagnosing diseases such as cancer at an early stage',\n",
       " 'financial institutions leverage ai for fraud detection risk assessment and algorithmic trading resulting in more secure and efficient operations',\n",
       " 'in the realm of education tools offer personalized learning experiences adapting to the needs and pace of individual students',\n",
       " 'this technology also powers virtual assistants which can help with tasks ranging from setting reminders to answering complex queries making life more convenient',\n",
       " 'entertainment has also seen a significant transformation with ai as recommendation algorithms suggest movies music and shows tailored to individual preferences enhancing user experience',\n",
       " 'however with these advancements come challenges and ethical considerations',\n",
       " 'the potential for job displacement due to automation raises concerns about the future workforce',\n",
       " 'ensuring the privacy and security of data used by ai systems is paramount as breaches can have serious consequences',\n",
       " 'additionally the development of ai must be guided by ethical principles to prevent biases and ensure fair and just outcomes',\n",
       " 'as ai continues to evolve it is crucial for policymakers researchers and industry leaders to collaborate and address these challenges ensuring that the benefits of ai are maximized while minimizing potential risks',\n",
       " 'the future of ai holds immense potential and with responsible development and deployment it can lead to a more innovative and equitable world']"
      ]
     },
     "execution_count": 13,
     "metadata": {},
     "output_type": "execute_result"
    }
   ],
   "source": [
    "content = sent_tokenize(content)\n",
    "sentences = [] \n",
    "for sentence in content: \n",
    "    words = word_tokenize(sentence) \n",
    "    words = [word.lower() for word in words if word.isalnum()] \n",
    "    words = \" \".join(words) \n",
    "    sentences.append(words)\n",
    "content = sentences\n",
    "content"
   ]
  },
  {
   "cell_type": "code",
   "execution_count": 14,
   "metadata": {},
   "outputs": [
    {
     "name": "stdout",
     "output_type": "stream",
     "text": [
      "{'a': 0, 'about': 1, 'accuracy': 2, 'adapting': 3, 'additionally': 4, 'address': 5, 'advancements': 6, 'ai': 7, 'algorithmic': 8, 'algorithms': 9, 'also': 10, 'an': 11, 'analyze': 12, 'and': 13, 'answering': 14, 'are': 15, 'artificial': 16, 'as': 17, 'aspects': 18, 'assessment': 19, 'assistants': 20, 'assisting': 21, 'at': 22, 'automation': 23, 'be': 24, 'been': 25, 'benefits': 26, 'biases': 27, 'breaches': 28, 'by': 29, 'can': 30, 'cancer': 31, 'challenges': 32, 'collaborate': 33, 'come': 34, 'complex': 35, 'concerns': 36, 'consequences': 37, 'considerations': 38, 'continues': 39, 'convenient': 40, 'crucial': 41, 'daily': 42, 'data': 43, 'deployment': 44, 'detection': 45, 'development': 46, 'diagnosing': 47, 'diseases': 48, 'displacement': 49, 'doctors': 50, 'due': 51, 'early': 52, 'education': 53, 'efficient': 54, 'enhancing': 55, 'ensure': 56, 'ensuring': 57, 'entertainment': 58, 'equitable': 59, 'ethical': 60, 'evolve': 61, 'experience': 62, 'experiences': 63, 'fair': 64, 'finance': 65, 'financial': 66, 'for': 67, 'fraud': 68, 'from': 69, 'future': 70, 'guided': 71, 'has': 72, 'have': 73, 'healthcare': 74, 'help': 75, 'holds': 76, 'however': 77, 'images': 78, 'immense': 79, 'impact': 80, 'in': 81, 'incredible': 82, 'individual': 83, 'industries': 84, 'industry': 85, 'innovative': 86, 'institutions': 87, 'intelligence': 88, 'is': 89, 'it': 90, 'job': 91, 'just': 92, 'lead': 93, 'leaders': 94, 'learning': 95, 'leverage': 96, 'life': 97, 'making': 98, 'maximized': 99, 'medical': 100, 'minimizing': 101, 'more': 102, 'movies': 103, 'music': 104, 'must': 105, 'needs': 106, 'of': 107, 'offer': 108, 'operations': 109, 'outcomes': 110, 'pace': 111, 'paramount': 112, 'personalized': 113, 'policymakers': 114, 'potential': 115, 'powers': 116, 'preferences': 117, 'prevent': 118, 'principles': 119, 'privacy': 120, 'profound': 121, 'queries': 122, 'raises': 123, 'ranging': 124, 'realm': 125, 'recent': 126, 'recommendation': 127, 'remarkable': 128, 'reminders': 129, 'researchers': 130, 'responsible': 131, 'resulting': 132, 'risk': 133, 'risks': 134, 'secure': 135, 'security': 136, 'seen': 137, 'serious': 138, 'setting': 139, 'shows': 140, 'significant': 141, 'stage': 142, 'strides': 143, 'students': 144, 'such': 145, 'suggest': 146, 'systems': 147, 'tailored': 148, 'tasks': 149, 'technology': 150, 'that': 151, 'the': 152, 'these': 153, 'this': 154, 'to': 155, 'tools': 156, 'trading': 157, 'transformation': 158, 'transforming': 159, 'used': 160, 'user': 161, 'various': 162, 'virtual': 163, 'which': 164, 'while': 165, 'with': 166, 'workforce': 167, 'world': 168, 'years': 169}\n"
     ]
    }
   ],
   "source": [
    "all_words = set() \n",
    "for sentence in content: \n",
    "    words = word_tokenize(sentence) \n",
    "    all_words.update(words)\n",
    "all_words = sorted(all_words) \n",
    "word_indx = {word:i for i,word in enumerate(all_words)}\n",
    "print(word_indx)"
   ]
  },
  {
   "cell_type": "code",
   "execution_count": 15,
   "metadata": {},
   "outputs": [],
   "source": [
    "def sentence_vector(sentence, word_indx): \n",
    "    words = word_tokenize(sentence) \n",
    "    vector = np.zeros(len(word_indx)) \n",
    "    for word in words: \n",
    "        if word in word_indx: \n",
    "            vector[word_indx[word]] +=1 \n",
    "    return vector \n",
    "# vectors = np.array([sentence_vector(sentence, word_indx) for sentence in content]) "
   ]
  },
  {
   "cell_type": "code",
   "execution_count": 16,
   "metadata": {},
   "outputs": [],
   "source": [
    "def sentence_similarity(vec1, vec2): \n",
    "    return 1 - cosine_distance(vec1, vec2) "
   ]
  },
  {
   "cell_type": "code",
   "execution_count": 17,
   "metadata": {},
   "outputs": [],
   "source": [
    "def sim_matrix(sentences, word_indx): \n",
    "    mat = np.zeros((len(sentences), len(sentences))) \n",
    "    vectors = np.array([sentence_vector(sentence, word_indx) for sentence in sentences]) \n",
    "    for i in range(len(sentences)): \n",
    "        for j in range(len(sentences)): \n",
    "            if i != j: \n",
    "                mat[i][j] = sentence_similarity(vectors[i], vectors[j])\n",
    "    return mat"
   ]
  },
  {
   "cell_type": "code",
   "execution_count": 18,
   "metadata": {},
   "outputs": [],
   "source": [
    "import networkx as nx  \n",
    "def rank(matrix):\n",
    "    graph = nx.from_numpy_array(matrix) \n",
    "    scores = nx.pagerank(graph) \n",
    "    return scores   "
   ]
  },
  {
   "cell_type": "code",
   "execution_count": 82,
   "metadata": {},
   "outputs": [],
   "source": [
    "matrix = sim_matrix(content, word_indx) \n",
    "scores = rank(matrix) \n",
    "ranked_sentences = sorted(((scores[i],s) for i,s in enumerate(content)), reverse=True)\n",
    "summarize_text = [ranked_sentences[i][1] for i in range(3)]"
   ]
  },
  {
   "cell_type": "code",
   "execution_count": 65,
   "metadata": {},
   "outputs": [
    {
     "name": "stdout",
     "output_type": "stream",
     "text": [
      "the future of ai holds immense potential and with responsible development and deployment it can lead to a more innovative and equitable world\n",
      "as ai continues to evolve it is crucial for policymakers researchers and industry leaders to collaborate and address these challenges ensuring that the benefits of ai are maximized while minimizing potential risks\n",
      "additionally the development of ai must be guided by ethical principles to prevent biases and ensure fair and just outcomes\n"
     ]
    }
   ],
   "source": [
    "for sentence in summarize_text: \n",
    "    print(\"\".join(sentence))"
   ]
  },
  {
   "cell_type": "markdown",
   "metadata": {},
   "source": [
    "Paraphrase summarized text"
   ]
  },
  {
   "cell_type": "code",
   "execution_count": 94,
   "metadata": {},
   "outputs": [],
   "source": [
    "import random \n",
    "from nltk.corpus import wordnet \n",
    "from nltk.probability import FreqDist"
   ]
  },
  {
   "cell_type": "code",
   "execution_count": 95,
   "metadata": {},
   "outputs": [
    {
     "data": {
      "text/plain": [
       "['the future of ai holds immense potential and with responsible development and deployment it can lead to a more innovative and equitable world',\n",
       " 'as ai continues to evolve it is crucial for policymakers researchers and industry leaders to collaborate and address these challenges ensuring that the benefits of ai are maximized while minimizing potential risks',\n",
       " 'additionally the development of ai must be guided by ethical principles to prevent biases and ensure fair and just outcomes']"
      ]
     },
     "execution_count": 95,
     "metadata": {},
     "output_type": "execute_result"
    }
   ],
   "source": [
    "summarize_text"
   ]
  },
  {
   "cell_type": "markdown",
   "metadata": {},
   "source": [
    "paraphrase (replace with synonyms)"
   ]
  },
  {
   "cell_type": "code",
   "execution_count": 96,
   "metadata": {},
   "outputs": [
    {
     "data": {
      "text/plain": [
       "'the future of ai holds immense potential and with responsible development and deployment it can lead to a more innovative and equitable world.as ai continues to evolve it is crucial for policymakers researchers and industry leaders to collaborate and address these challenges ensuring that the benefits of ai are maximized while minimizing potential risks.additionally the development of ai must be guided by ethical principles to prevent biases and ensure fair and just outcomes.'"
      ]
     },
     "execution_count": 96,
     "metadata": {},
     "output_type": "execute_result"
    }
   ],
   "source": [
    "content = ''\n",
    "for sentence in summarize_text: \n",
    "    sentence += '.'\n",
    "    content += sentence \n",
    "content"
   ]
  },
  {
   "cell_type": "code",
   "execution_count": 97,
   "metadata": {},
   "outputs": [],
   "source": [
    "words = word_tokenize(content.lower()) \n",
    "freq_dist = FreqDist(words) "
   ]
  },
  {
   "cell_type": "code",
   "execution_count": 98,
   "metadata": {},
   "outputs": [],
   "source": [
    "def get_synonyms(word): \n",
    "    syno = set() \n",
    "    for syn in wordnet.synsets(word): \n",
    "        for lemma in syn.lemmas(): \n",
    "            if lemma.name().lower() != word.lower(): # exclude word itself \n",
    "                syno.add(lemma.name())\n",
    "    return list(syno)"
   ]
  },
  {
   "cell_type": "code",
   "execution_count": 99,
   "metadata": {},
   "outputs": [],
   "source": [
    "def replace_with_synonyms(words, freq_dist, rr=0.3, srr=0.3): \n",
    "    new_words =[] \n",
    "    most_common = {word for word, freq in freq_dist.most_common(int(len(freq_dist)*rr))}\n",
    "    replace_indx = [i for i, word in enumerate(words) if word not in most_common]\n",
    "    num_to_replace = int(len(replace_indx)*srr) # 30% of replaceable indices to replace with synonyms \n",
    "    indx_replaces = random.sample(replace_indx,num_to_replace) \n",
    "\n",
    "    for i, word in enumerate(words): \n",
    "        if i in indx_replaces: \n",
    "            syno = get_synonyms(word) \n",
    "            if syno: \n",
    "                new_words.append(random.choice(syno))\n",
    "            else: \n",
    "                new_words.append(word) \n",
    "        else: \n",
    "            new_words.append(word) \n",
    "    return new_words"
   ]
  },
  {
   "cell_type": "code",
   "execution_count": 101,
   "metadata": {},
   "outputs": [
    {
     "name": "stdout",
     "output_type": "stream",
     "text": [
      "['the future of ai holds immense potential and with responsible development and deployment it can lead to a more innovative and equitable world', 'as ai continues to evolve it is crucial for policymakers researchers and industry leaders to collaborate and address these challenges ensuring that the benefits of ai are maximized while minimizing potential risks', 'additionally the development of ai must be guided by ethical principles to prevent biases and ensure fair and just outcomes']\n",
      "\n",
      "the future of ai holds immense potential and with responsible development and deployment it can lead to a more_than groundbreaking and equitable world.as ai carry_on to acquire it is crucial for policymakers investigator and industry leader to collaborate and address these challenges ensuring that the benefits of ai are maximized while understate potential risks.additionally the development of ai must be guided by ethical principles to prevent prejudice and ensure fair and simply outcomes .\n"
     ]
    }
   ],
   "source": [
    "para = replace_with_synonyms(words, freq_dist)\n",
    "print(summarize_text)\n",
    "print()\n",
    "print(' '.join(para)) "
   ]
  },
  {
   "cell_type": "code",
   "execution_count": null,
   "metadata": {},
   "outputs": [],
   "source": []
  }
 ],
 "metadata": {
  "kernelspec": {
   "display_name": "Python 3",
   "language": "python",
   "name": "python3"
  },
  "language_info": {
   "codemirror_mode": {
    "name": "ipython",
    "version": 3
   },
   "file_extension": ".py",
   "mimetype": "text/x-python",
   "name": "python",
   "nbconvert_exporter": "python",
   "pygments_lexer": "ipython3",
   "version": "3.11.4"
  }
 },
 "nbformat": 4,
 "nbformat_minor": 2
}
