{
 "cells": [
  {
   "cell_type": "code",
   "execution_count": 2,
   "metadata": {},
   "outputs": [],
   "source": [
    "import nltk \n",
    "import os \n",
    "import random \n",
    "import re \n",
    "from nltk.tokenize import word_tokenize,sent_tokenize \n",
    "from nltk.corpus import stopwords \n",
    "from nltk.util import ngrams \n",
    "from nltk.probability import FreqDist \n",
    "from collections import defaultdict \n",
    "from pypdf import PdfReader"
   ]
  },
  {
   "cell_type": "code",
   "execution_count": 3,
   "metadata": {},
   "outputs": [],
   "source": [
    "def is_ar_ur(text): \n",
    "    char_range = r'[\\u0600-\\u06FF\\u0750-\\u077F\\uFB50-\\uFDFF\\uFE70-\\uFEFF]+'\n",
    "    text = re.sub(char_range, '',text) \n",
    "    text = re.sub(r'\\s+', ' ', text).strip() # remove extra spaces \n",
    "    return text \n",
    "\n",
    "# text = \"This is a      sample text. هذا نص باللغة العربية۔ یہ ایک اردو میں نمونہ متن ہے۔\"\n",
    "# text = is_ar_ur(text)\n",
    "# text"
   ]
  },
  {
   "cell_type": "code",
   "execution_count": 4,
   "metadata": {},
   "outputs": [],
   "source": [
    "def get_pdf_paths(folder): \n",
    "    pdf_files = [] \n",
    "    for file in os.listdir(folder):  # get every file in the directory\n",
    "        if file.endswith('.pdf'): # filter out the pdfs \n",
    "            path = os.path.join(folder, file) # get full path of pdfs \n",
    "            pdf_files.append(path) \n",
    "    return pdf_files\n",
    "# get_pdf_paths(r'C:\\Users\\user\\Desktop\\momi\\Projects\\NLP\\summarize')"
   ]
  },
  {
   "cell_type": "code",
   "execution_count": 5,
   "metadata": {},
   "outputs": [],
   "source": [
    "# # # add more text in train file \n",
    "# pdf_files = [] \n",
    "# text = \"\"\n",
    "# folders = [r'C:\\Users\\user\\Desktop\\momi\\Projects\\NLP\\summarize', r'C:\\Users\\user\\Desktop\\momi\\Projects\\NLP\\sort']\n",
    "# for folder in folders: \n",
    "#     files = get_pdf_paths(folder) \n",
    "#     for file in files: \n",
    "#         pdf_files.append(file)\n",
    "# # print(pdf_files)\n",
    "# for pdf_file in pdf_files: \n",
    "#     reader = PdfReader(pdf_file) \n",
    "#     for page in reader.pages: \n",
    "#         text += page.extract_text() \n",
    "# # preprocess text -> premove arabic/urdu text \n",
    "\n",
    "# text = is_ar_ur(text)"
   ]
  },
  {
   "cell_type": "code",
   "execution_count": 6,
   "metadata": {},
   "outputs": [],
   "source": [
    "# text"
   ]
  },
  {
   "cell_type": "code",
   "execution_count": 7,
   "metadata": {},
   "outputs": [],
   "source": [
    "import chardet"
   ]
  },
  {
   "cell_type": "code",
   "execution_count": 8,
   "metadata": {},
   "outputs": [],
   "source": [
    "# with open('train.txt', 'rb') as file: \n",
    "#     res = chardet.detect(file.read()) \n",
    "#     encoding = res['encoding'] "
   ]
  },
  {
   "cell_type": "code",
   "execution_count": 9,
   "metadata": {},
   "outputs": [],
   "source": [
    "\n",
    "# with open('train.txt','r', encoding=encoding) as file: \n",
    "#     text = file.readlines()"
   ]
  },
  {
   "cell_type": "code",
   "execution_count": 10,
   "metadata": {},
   "outputs": [],
   "source": [
    "# text = ''.join(text)\n",
    "# text"
   ]
  },
  {
   "cell_type": "code",
   "execution_count": 11,
   "metadata": {},
   "outputs": [],
   "source": [
    "def train_model(text, n=2): \n",
    "    words = word_tokenize(text.lower()) \n",
    "    n_grams = list(ngrams(words,n)) \n",
    "    model = defaultdict(FreqDist) \n",
    "\n",
    "    for n_gram in n_grams: \n",
    "        pre, next = n_gram[:-1], n_gram[-1] \n",
    "        model[pre][next] +=1 \n",
    "    return model    "
   ]
  },
  {
   "cell_type": "code",
   "execution_count": 12,
   "metadata": {},
   "outputs": [],
   "source": [
    "def gen_text(model, start, num,n): \n",
    "    start_words = word_tokenize(start.lower()) \n",
    "    output = start_words\n",
    "    \n",
    "    for _ in range(num): \n",
    "        pre = tuple(output[-(n-1):])\n",
    "        if pre in model: \n",
    "            next = random.choices(list(model[pre].keys()), weights=model[pre].values())[0]\n",
    "            output.append(next) \n",
    "        else: \n",
    "            break \n",
    "    return \" \".join(output)"
   ]
  },
  {
   "cell_type": "code",
   "execution_count": 13,
   "metadata": {},
   "outputs": [],
   "source": [
    "import pickle"
   ]
  },
  {
   "cell_type": "code",
   "execution_count": 14,
   "metadata": {},
   "outputs": [],
   "source": [
    "def save_model(model, filename): \n",
    "    with open(filename, 'wb') as file: \n",
    "        pickle.dump(model, file)\n",
    "    \n",
    "def load_model(filename): \n",
    "    with open(filename, 'rb') as file: \n",
    "        return pickle.load(file)"
   ]
  },
  {
   "cell_type": "code",
   "execution_count": 15,
   "metadata": {},
   "outputs": [],
   "source": [
    "# bi_model = train_model(text,2) \n",
    "# tri_model = train_model(text,3) \n",
    "# save_model(bi_model,\"model_bigram.pkl\")\n",
    "# save_model(tri_model, \"model_trigram.pkl\")"
   ]
  },
  {
   "cell_type": "code",
   "execution_count": 16,
   "metadata": {},
   "outputs": [],
   "source": [
    "load_bi_model = load_model(\"model_bigram.pkl\") \n",
    "load_tri_model = load_model(\"model_trigram.pkl\") "
   ]
  },
  {
   "cell_type": "code",
   "execution_count": 36,
   "metadata": {},
   "outputs": [
    {
     "name": "stdout",
     "output_type": "stream",
     "text": [
      "the bregman divergence deﬁned\n",
      "the bregman divergence immediately\n"
     ]
    }
   ],
   "source": [
    "start_text = \"the bregman divergence\" \n",
    "num_words = 1\n",
    "suggest1 = gen_text(load_bi_model, start_text, num_words,2) \n",
    "suggest2 = gen_text(load_tri_model,start_text, num_words,3)\n",
    "print(suggest1) \n",
    "print(suggest2)"
   ]
  },
  {
   "cell_type": "code",
   "execution_count": null,
   "metadata": {},
   "outputs": [],
   "source": []
  }
 ],
 "metadata": {
  "kernelspec": {
   "display_name": "Python 3",
   "language": "python",
   "name": "python3"
  },
  "language_info": {
   "codemirror_mode": {
    "name": "ipython",
    "version": 3
   },
   "file_extension": ".py",
   "mimetype": "text/x-python",
   "name": "python",
   "nbconvert_exporter": "python",
   "pygments_lexer": "ipython3",
   "version": "3.11.4"
  }
 },
 "nbformat": 4,
 "nbformat_minor": 2
}
